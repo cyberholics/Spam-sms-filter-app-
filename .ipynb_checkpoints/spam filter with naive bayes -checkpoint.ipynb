{
 "cells": [
  {
   "cell_type": "markdown",
   "id": "36c118c9",
   "metadata": {},
   "source": [
    "# About this project\n"
   ]
  },
  {
   "cell_type": "markdown",
   "id": "a6b747f1",
   "metadata": {},
   "source": [
    "Spam messages are unsolicited and unwanted messages. Fraudsters use spam messages to trick people into giving them your personal information — things like your password, account number, or even credit card information.\n",
    "\n",
    "These messages are designed in such a way people fall for it. This is because it is difficult for people with little knowledge about scams to determine if sms is from a scammer.\n",
    "\n"
   ]
  },
  {
   "cell_type": "markdown",
   "id": "2645cc5a",
   "metadata": {},
   "source": [
    "In this project, I will build an application that can help determine if an SMS is spam or not. The project is all about teaching the computer how to classify SMS as spam or not spam in order to help us determine whether an SMS is spam or not. To do that, I will use the **Multinomial Naive Bayes algorithm** along with a dataset of 5,572 SMS messages that are already classified by humans.\n",
    "\n",
    "For this project, my goal is to create a spam filter that classifies new messages with an accuracy greater than 80% — so i expect that more than 80% of the new messages will be classified correctly as spam or ham (non-spam).\n",
    "\n",
    "THIS IS A MACHINE LEARNING CLASSIFICATION PROBLEM\n"
   ]
  },
  {
   "cell_type": "code",
   "execution_count": 44,
   "id": "d724f795",
   "metadata": {},
   "outputs": [],
   "source": [
    "# Import libraries\n",
    "import pandas as pd\n",
    "import numpy as np\n",
    "import matplotlib.pyplot as plt\n",
    "from sklearn.model_selection import train_test_split\n",
    "import re \n",
    "from sklearn.naive_bayes import MultinomialNB\n",
    "from sklearn.feature_extraction.text import CountVectorizer\n",
    "import matplotlib.pyplot as plt\n",
    "import bentoml"
   ]
  },
  {
   "cell_type": "markdown",
   "id": "75cf2979",
   "metadata": {},
   "source": [
    "### Exploratory Data analysis (EDA)"
   ]
  },
  {
   "cell_type": "code",
   "execution_count": 2,
   "id": "77cfe871",
   "metadata": {},
   "outputs": [],
   "source": [
    "#read the sms data\n",
    "data=pd.read_csv(\"SMSSpamCollection\",sep='\\t',header=None,names=['Label', 'SMS'])"
   ]
  },
  {
   "cell_type": "code",
   "execution_count": 3,
   "id": "66359e2b",
   "metadata": {},
   "outputs": [
    {
     "data": {
      "text/plain": [
       "(5572, 2)"
      ]
     },
     "execution_count": 3,
     "metadata": {},
     "output_type": "execute_result"
    }
   ],
   "source": [
    "data.shape"
   ]
  },
  {
   "cell_type": "code",
   "execution_count": 4,
   "id": "7e05f09d",
   "metadata": {},
   "outputs": [
    {
     "data": {
      "text/html": [
       "<div>\n",
       "<style scoped>\n",
       "    .dataframe tbody tr th:only-of-type {\n",
       "        vertical-align: middle;\n",
       "    }\n",
       "\n",
       "    .dataframe tbody tr th {\n",
       "        vertical-align: top;\n",
       "    }\n",
       "\n",
       "    .dataframe thead th {\n",
       "        text-align: right;\n",
       "    }\n",
       "</style>\n",
       "<table border=\"1\" class=\"dataframe\">\n",
       "  <thead>\n",
       "    <tr style=\"text-align: right;\">\n",
       "      <th></th>\n",
       "      <th>Label</th>\n",
       "      <th>SMS</th>\n",
       "    </tr>\n",
       "  </thead>\n",
       "  <tbody>\n",
       "    <tr>\n",
       "      <th>0</th>\n",
       "      <td>ham</td>\n",
       "      <td>Go until jurong point, crazy.. Available only ...</td>\n",
       "    </tr>\n",
       "    <tr>\n",
       "      <th>1</th>\n",
       "      <td>ham</td>\n",
       "      <td>Ok lar... Joking wif u oni...</td>\n",
       "    </tr>\n",
       "    <tr>\n",
       "      <th>2</th>\n",
       "      <td>spam</td>\n",
       "      <td>Free entry in 2 a wkly comp to win FA Cup fina...</td>\n",
       "    </tr>\n",
       "    <tr>\n",
       "      <th>3</th>\n",
       "      <td>ham</td>\n",
       "      <td>U dun say so early hor... U c already then say...</td>\n",
       "    </tr>\n",
       "    <tr>\n",
       "      <th>4</th>\n",
       "      <td>ham</td>\n",
       "      <td>Nah I don't think he goes to usf, he lives aro...</td>\n",
       "    </tr>\n",
       "  </tbody>\n",
       "</table>\n",
       "</div>"
      ],
      "text/plain": [
       "  Label                                                SMS\n",
       "0   ham  Go until jurong point, crazy.. Available only ...\n",
       "1   ham                      Ok lar... Joking wif u oni...\n",
       "2  spam  Free entry in 2 a wkly comp to win FA Cup fina...\n",
       "3   ham  U dun say so early hor... U c already then say...\n",
       "4   ham  Nah I don't think he goes to usf, he lives aro..."
      ]
     },
     "execution_count": 4,
     "metadata": {},
     "output_type": "execute_result"
    }
   ],
   "source": [
    "data.head()"
   ]
  },
  {
   "cell_type": "code",
   "execution_count": 5,
   "id": "e4c04bf6",
   "metadata": {},
   "outputs": [
    {
     "data": {
      "text/plain": [
       "True     0.865937\n",
       "False    0.134063\n",
       "Name: Label, dtype: float64"
      ]
     },
     "execution_count": 5,
     "metadata": {},
     "output_type": "execute_result"
    }
   ],
   "source": [
    "(data[\"Label\"]==\"ham\").value_counts(normalize=True)"
   ]
  },
  {
   "cell_type": "code",
   "execution_count": 6,
   "id": "f2250f6a",
   "metadata": {},
   "outputs": [
    {
     "data": {
      "image/png": "[encoded data removed]",
      "text/plain": [
       "<Figure size 432x288 with 1 Axes>"
      ]
     },
     "metadata": {
      "needs_background": "light"
     },
     "output_type": "display_data"
    }
   ],
   "source": [
    "## Visualise the class imbalance\n",
    "data[\"Label\"].value_counts(normalize=True).plot(kind=\"bar\")\n",
    "plt.show()\n"
   ]
  },
  {
   "cell_type": "markdown",
   "id": "ef4799c1",
   "metadata": {},
   "source": [
    "### Observation: \n",
    "- The data set has two columns Label and sms.\n",
    "- The label column has two unique values ham(not spam) and Spam. \n",
    "- The SMS column contains different unique messages. This messages are labled on the label column.\n",
    "- The data has 5572 rows\n",
    "- Almost 87% of the SMS messages are classified as Non - Spam (ham) and the remaining 13% are classified as Spam."
   ]
  },
  {
   "cell_type": "code",
   "execution_count": 7,
   "id": "76a90917",
   "metadata": {},
   "outputs": [
    {
     "data": {
      "text/html": [
       "<div>\n",
       "<style scoped>\n",
       "    .dataframe tbody tr th:only-of-type {\n",
       "        vertical-align: middle;\n",
       "    }\n",
       "\n",
       "    .dataframe tbody tr th {\n",
       "        vertical-align: top;\n",
       "    }\n",
       "\n",
       "    .dataframe thead th {\n",
       "        text-align: right;\n",
       "    }\n",
       "</style>\n",
       "<table border=\"1\" class=\"dataframe\">\n",
       "  <thead>\n",
       "    <tr style=\"text-align: right;\">\n",
       "      <th></th>\n",
       "      <th>Label</th>\n",
       "      <th>SMS</th>\n",
       "    </tr>\n",
       "  </thead>\n",
       "  <tbody>\n",
       "    <tr>\n",
       "      <th>1078</th>\n",
       "      <td>ham</td>\n",
       "      <td>Yep, by the pretty sculpture</td>\n",
       "    </tr>\n",
       "    <tr>\n",
       "      <th>4028</th>\n",
       "      <td>ham</td>\n",
       "      <td>Yes, princess. Are you going to make me moan?</td>\n",
       "    </tr>\n",
       "    <tr>\n",
       "      <th>958</th>\n",
       "      <td>ham</td>\n",
       "      <td>Welp apparently he retired</td>\n",
       "    </tr>\n",
       "    <tr>\n",
       "      <th>4642</th>\n",
       "      <td>ham</td>\n",
       "      <td>Havent.</td>\n",
       "    </tr>\n",
       "    <tr>\n",
       "      <th>4674</th>\n",
       "      <td>ham</td>\n",
       "      <td>I forgot 2 ask ü all smth.. There's a card on ...</td>\n",
       "    </tr>\n",
       "    <tr>\n",
       "      <th>...</th>\n",
       "      <td>...</td>\n",
       "      <td>...</td>\n",
       "    </tr>\n",
       "    <tr>\n",
       "      <th>905</th>\n",
       "      <td>ham</td>\n",
       "      <td>We're all getting worried over here, derek and...</td>\n",
       "    </tr>\n",
       "    <tr>\n",
       "      <th>5192</th>\n",
       "      <td>ham</td>\n",
       "      <td>Oh oh... Den muz change plan liao... Go back h...</td>\n",
       "    </tr>\n",
       "    <tr>\n",
       "      <th>3980</th>\n",
       "      <td>ham</td>\n",
       "      <td>CERI U REBEL! SWEET DREAMZ ME LITTLE BUDDY!! C...</td>\n",
       "    </tr>\n",
       "    <tr>\n",
       "      <th>235</th>\n",
       "      <td>spam</td>\n",
       "      <td>Text &amp; meet someone sexy today. U can find a d...</td>\n",
       "    </tr>\n",
       "    <tr>\n",
       "      <th>5157</th>\n",
       "      <td>ham</td>\n",
       "      <td>K k:) sms chat with me.</td>\n",
       "    </tr>\n",
       "  </tbody>\n",
       "</table>\n",
       "<p>5572 rows × 2 columns</p>\n",
       "</div>"
      ],
      "text/plain": [
       "     Label                                                SMS\n",
       "1078   ham                       Yep, by the pretty sculpture\n",
       "4028   ham      Yes, princess. Are you going to make me moan?\n",
       "958    ham                         Welp apparently he retired\n",
       "4642   ham                                            Havent.\n",
       "4674   ham  I forgot 2 ask ü all smth.. There's a card on ...\n",
       "...    ...                                                ...\n",
       "905    ham  We're all getting worried over here, derek and...\n",
       "5192   ham  Oh oh... Den muz change plan liao... Go back h...\n",
       "3980   ham  CERI U REBEL! SWEET DREAMZ ME LITTLE BUDDY!! C...\n",
       "235   spam  Text & meet someone sexy today. U can find a d...\n",
       "5157   ham                            K k:) sms chat with me.\n",
       "\n",
       "[5572 rows x 2 columns]"
      ]
     },
     "execution_count": 7,
     "metadata": {},
     "output_type": "execute_result"
    }
   ],
   "source": [
    "## Randomise the dataset\n",
    "randomised_data=data.sample(frac=1,random_state=1)\n",
    "randomised_data"
   ]
  },
  {
   "cell_type": "code",
   "execution_count": 8,
   "id": "1877fab1",
   "metadata": {},
   "outputs": [],
   "source": [
    "#convert the target(label) to numerical feature\n",
    "randomised_data.Label=(randomised_data.Label==\"spam\").astype(int)"
   ]
  },
  {
   "cell_type": "code",
   "execution_count": 9,
   "id": "dd24003e",
   "metadata": {},
   "outputs": [],
   "source": [
    "data_train,data_test=train_test_split(randomised_data,test_size=0.2,random_state=1)"
   ]
  },
  {
   "cell_type": "code",
   "execution_count": 10,
   "id": "d9933748",
   "metadata": {},
   "outputs": [],
   "source": [
    "y_train=data_train[\"Label\"]\n",
    "y_test=data_test[\"Label\"]"
   ]
  },
  {
   "cell_type": "code",
   "execution_count": 11,
   "id": "0aea1041",
   "metadata": {},
   "outputs": [],
   "source": [
    "del data_train[\"Label\"]\n",
    "del data_test[\"Label\"]"
   ]
  },
  {
   "cell_type": "code",
   "execution_count": 12,
   "id": "10f82a3c",
   "metadata": {},
   "outputs": [
    {
     "data": {
      "text/plain": [
       "(4457, 1)"
      ]
     },
     "execution_count": 12,
     "metadata": {},
     "output_type": "execute_result"
    }
   ],
   "source": [
    "data_train=data_train.reset_index(drop=True)\n",
    "data_train.shape"
   ]
  },
  {
   "cell_type": "code",
   "execution_count": 13,
   "id": "f7bbc071",
   "metadata": {},
   "outputs": [
    {
     "data": {
      "text/plain": [
       "(1115, 1)"
      ]
     },
     "execution_count": 13,
     "metadata": {},
     "output_type": "execute_result"
    }
   ],
   "source": [
    "data_test=data_test.reset_index(drop=True)\n",
    "data_test.shape"
   ]
  },
  {
   "cell_type": "markdown",
   "id": "5b1ffe62",
   "metadata": {},
   "source": [
    "#### Observation: Both the train and test data  has 87% of the SMS messages classified as Non - Spam (ham) and 13% classified as Spam."
   ]
  },
  {
   "cell_type": "code",
   "execution_count": 14,
   "id": "191dca87",
   "metadata": {},
   "outputs": [
    {
     "data": {
      "text/html": [
       "<div>\n",
       "<style scoped>\n",
       "    .dataframe tbody tr th:only-of-type {\n",
       "        vertical-align: middle;\n",
       "    }\n",
       "\n",
       "    .dataframe tbody tr th {\n",
       "        vertical-align: top;\n",
       "    }\n",
       "\n",
       "    .dataframe thead th {\n",
       "        text-align: right;\n",
       "    }\n",
       "</style>\n",
       "<table border=\"1\" class=\"dataframe\">\n",
       "  <thead>\n",
       "    <tr style=\"text-align: right;\">\n",
       "      <th></th>\n",
       "      <th>SMS</th>\n",
       "    </tr>\n",
       "  </thead>\n",
       "  <tbody>\n",
       "    <tr>\n",
       "      <th>0</th>\n",
       "      <td>URGENT! We are trying to contact U. Todays dra...</td>\n",
       "    </tr>\n",
       "    <tr>\n",
       "      <th>1</th>\n",
       "      <td>1 I don't have her number and 2 its gonna be a...</td>\n",
       "    </tr>\n",
       "    <tr>\n",
       "      <th>2</th>\n",
       "      <td>Party's at my place at usf, no charge (but if ...</td>\n",
       "    </tr>\n",
       "    <tr>\n",
       "      <th>3</th>\n",
       "      <td>Mm not entirely sure i understood that text bu...</td>\n",
       "    </tr>\n",
       "    <tr>\n",
       "      <th>4</th>\n",
       "      <td>Yes we are chatting too.</td>\n",
       "    </tr>\n",
       "  </tbody>\n",
       "</table>\n",
       "</div>"
      ],
      "text/plain": [
       "                                                 SMS\n",
       "0  URGENT! We are trying to contact U. Todays dra...\n",
       "1  1 I don't have her number and 2 its gonna be a...\n",
       "2  Party's at my place at usf, no charge (but if ...\n",
       "3  Mm not entirely sure i understood that text bu...\n",
       "4                           Yes we are chatting too."
      ]
     },
     "execution_count": 14,
     "metadata": {},
     "output_type": "execute_result"
    }
   ],
   "source": [
    "data_train.head()"
   ]
  },
  {
   "cell_type": "code",
   "execution_count": 15,
   "id": "6ce9826b",
   "metadata": {},
   "outputs": [
    {
     "data": {
      "text/html": [
       "<div>\n",
       "<style scoped>\n",
       "    .dataframe tbody tr th:only-of-type {\n",
       "        vertical-align: middle;\n",
       "    }\n",
       "\n",
       "    .dataframe tbody tr th {\n",
       "        vertical-align: top;\n",
       "    }\n",
       "\n",
       "    .dataframe thead th {\n",
       "        text-align: right;\n",
       "    }\n",
       "</style>\n",
       "<table border=\"1\" class=\"dataframe\">\n",
       "  <thead>\n",
       "    <tr style=\"text-align: right;\">\n",
       "      <th></th>\n",
       "      <th>SMS</th>\n",
       "    </tr>\n",
       "  </thead>\n",
       "  <tbody>\n",
       "    <tr>\n",
       "      <th>0</th>\n",
       "      <td>Good night my dear.. Sleepwell&amp;amp;Take care</td>\n",
       "    </tr>\n",
       "    <tr>\n",
       "      <th>1</th>\n",
       "      <td>Sen told that he is going to join his uncle fi...</td>\n",
       "    </tr>\n",
       "    <tr>\n",
       "      <th>2</th>\n",
       "      <td>Thank you baby! I cant wait to taste the real ...</td>\n",
       "    </tr>\n",
       "    <tr>\n",
       "      <th>3</th>\n",
       "      <td>When can ü come out?</td>\n",
       "    </tr>\n",
       "    <tr>\n",
       "      <th>4</th>\n",
       "      <td>No. Thank you. You've been wonderful</td>\n",
       "    </tr>\n",
       "  </tbody>\n",
       "</table>\n",
       "</div>"
      ],
      "text/plain": [
       "                                                 SMS\n",
       "0       Good night my dear.. Sleepwell&amp;Take care\n",
       "1  Sen told that he is going to join his uncle fi...\n",
       "2  Thank you baby! I cant wait to taste the real ...\n",
       "3                               When can ü come out?\n",
       "4               No. Thank you. You've been wonderful"
      ]
     },
     "execution_count": 15,
     "metadata": {},
     "output_type": "execute_result"
    }
   ],
   "source": [
    "data_test.head()"
   ]
  },
  {
   "cell_type": "code",
   "execution_count": 16,
   "id": "b6959f48",
   "metadata": {},
   "outputs": [],
   "source": [
    "## Remove punctuatuions form sms\n",
    "data_train[\"SMS\"]=data_train[\"SMS\"].replace(\"\\W\", \" \", regex=True)\n",
    "data_test[\"SMS\"]=data_test[\"SMS\"].replace(\"\\W\", \" \", regex=True)"
   ]
  },
  {
   "cell_type": "code",
   "execution_count": 17,
   "id": "09b8e817",
   "metadata": {},
   "outputs": [],
   "source": [
    "# transform letter to lower case\n",
    "data_train[\"SMS\"]=data_train[\"SMS\"].str.lower()\n",
    "data_test[\"SMS\"]=data_test[\"SMS\"].str.lower()"
   ]
  },
  {
   "cell_type": "code",
   "execution_count": 18,
   "id": "2ef1ca74",
   "metadata": {},
   "outputs": [
    {
     "data": {
      "text/html": [
       "<div>\n",
       "<style scoped>\n",
       "    .dataframe tbody tr th:only-of-type {\n",
       "        vertical-align: middle;\n",
       "    }\n",
       "\n",
       "    .dataframe tbody tr th {\n",
       "        vertical-align: top;\n",
       "    }\n",
       "\n",
       "    .dataframe thead th {\n",
       "        text-align: right;\n",
       "    }\n",
       "</style>\n",
       "<table border=\"1\" class=\"dataframe\">\n",
       "  <thead>\n",
       "    <tr style=\"text-align: right;\">\n",
       "      <th></th>\n",
       "      <th>SMS</th>\n",
       "    </tr>\n",
       "  </thead>\n",
       "  <tbody>\n",
       "    <tr>\n",
       "      <th>0</th>\n",
       "      <td>urgent  we are trying to contact u  todays dra...</td>\n",
       "    </tr>\n",
       "    <tr>\n",
       "      <th>1</th>\n",
       "      <td>1 i don t have her number and 2 its gonna be a...</td>\n",
       "    </tr>\n",
       "    <tr>\n",
       "      <th>2</th>\n",
       "      <td>party s at my place at usf  no charge  but if ...</td>\n",
       "    </tr>\n",
       "    <tr>\n",
       "      <th>3</th>\n",
       "      <td>mm not entirely sure i understood that text bu...</td>\n",
       "    </tr>\n",
       "    <tr>\n",
       "      <th>4</th>\n",
       "      <td>yes we are chatting too</td>\n",
       "    </tr>\n",
       "  </tbody>\n",
       "</table>\n",
       "</div>"
      ],
      "text/plain": [
       "                                                 SMS\n",
       "0  urgent  we are trying to contact u  todays dra...\n",
       "1  1 i don t have her number and 2 its gonna be a...\n",
       "2  party s at my place at usf  no charge  but if ...\n",
       "3  mm not entirely sure i understood that text bu...\n",
       "4                           yes we are chatting too "
      ]
     },
     "execution_count": 18,
     "metadata": {},
     "output_type": "execute_result"
    }
   ],
   "source": [
    "data_train.head()"
   ]
  },
  {
   "cell_type": "code",
   "execution_count": 19,
   "id": "e7027eff",
   "metadata": {},
   "outputs": [
    {
     "data": {
      "text/html": [
       "<div>\n",
       "<style scoped>\n",
       "    .dataframe tbody tr th:only-of-type {\n",
       "        vertical-align: middle;\n",
       "    }\n",
       "\n",
       "    .dataframe tbody tr th {\n",
       "        vertical-align: top;\n",
       "    }\n",
       "\n",
       "    .dataframe thead th {\n",
       "        text-align: right;\n",
       "    }\n",
       "</style>\n",
       "<table border=\"1\" class=\"dataframe\">\n",
       "  <thead>\n",
       "    <tr style=\"text-align: right;\">\n",
       "      <th></th>\n",
       "      <th>SMS</th>\n",
       "    </tr>\n",
       "  </thead>\n",
       "  <tbody>\n",
       "    <tr>\n",
       "      <th>0</th>\n",
       "      <td>good night my dear   sleepwell amp take care</td>\n",
       "    </tr>\n",
       "    <tr>\n",
       "      <th>1</th>\n",
       "      <td>sen told that he is going to join his uncle fi...</td>\n",
       "    </tr>\n",
       "    <tr>\n",
       "      <th>2</th>\n",
       "      <td>thank you baby  i cant wait to taste the real ...</td>\n",
       "    </tr>\n",
       "    <tr>\n",
       "      <th>3</th>\n",
       "      <td>when can ü come out</td>\n",
       "    </tr>\n",
       "    <tr>\n",
       "      <th>4</th>\n",
       "      <td>no  thank you  you ve been wonderful</td>\n",
       "    </tr>\n",
       "  </tbody>\n",
       "</table>\n",
       "</div>"
      ],
      "text/plain": [
       "                                                 SMS\n",
       "0       good night my dear   sleepwell amp take care\n",
       "1  sen told that he is going to join his uncle fi...\n",
       "2  thank you baby  i cant wait to taste the real ...\n",
       "3                               when can ü come out \n",
       "4               no  thank you  you ve been wonderful"
      ]
     },
     "execution_count": 19,
     "metadata": {},
     "output_type": "execute_result"
    }
   ],
   "source": [
    "data_test.head()"
   ]
  },
  {
   "cell_type": "markdown",
   "id": "43e53fa7",
   "metadata": {},
   "source": [
    "### Data transformation"
   ]
  },
  {
   "cell_type": "code",
   "execution_count": 20,
   "id": "35f4f649",
   "metadata": {},
   "outputs": [],
   "source": [
    "v = CountVectorizer()\n",
    "X_train = v.fit_transform(data_train['SMS'])\n",
    "X_test = v.fit_transform(data_test['SMS'])"
   ]
  },
  {
   "cell_type": "code",
   "execution_count": 21,
   "id": "401ba67c",
   "metadata": {},
   "outputs": [],
   "source": [
    "vectorizer = CountVectorizer()\n",
    "X_train_encoded = vectorizer.fit_transform(data_train['SMS'])\n",
    "X_test_encoded = vectorizer.transform(data_test['SMS'])"
   ]
  },
  {
   "cell_type": "markdown",
   "id": "d82522a0",
   "metadata": {},
   "source": [
    "### Naive bayes model training"
   ]
  },
  {
   "cell_type": "code",
   "execution_count": 22,
   "id": "3382ef63",
   "metadata": {},
   "outputs": [],
   "source": [
    "nb_model = MultinomialNB()\n",
    "nb_model.fit(X_train_encoded, y_train)\n",
    "y_pred = nb_model.predict_proba(X_test_encoded)[:, 1]"
   ]
  },
  {
   "cell_type": "code",
   "execution_count": 23,
   "id": "b0b63d3e",
   "metadata": {},
   "outputs": [
    {
     "name": "stdout",
     "output_type": "stream",
     "text": [
      "Accuracy: 0.9865470852017937\n"
     ]
    }
   ],
   "source": [
    "accuracy = nb_model.score(X_test_encoded, y_test)\n",
    "print(\"Accuracy:\", accuracy)\n"
   ]
  },
  {
   "cell_type": "markdown",
   "id": "855c0e7a",
   "metadata": {},
   "source": [
    "### Testing the model "
   ]
  },
  {
   "cell_type": "code",
   "execution_count": 35,
   "id": "53b68653",
   "metadata": {},
   "outputs": [],
   "source": [
    "def classify_sms(message):\n",
    "    data = re.sub('\\W', ' ', message)\n",
    "    message = message.lower()\n",
    "    message_list = [message]  \n",
    "    X_test_encoded = vectorizer.transform(message_list)  \n",
    "    prediction = nb_model.predict_proba(X_test_encoded)[:, 1]\n",
    "    print(\"Spam probability\",prediction)\n",
    "    if prediction >= 0.5:\n",
    "        print(\"The SMS is classified as spam.\")\n",
    "    else:\n",
    "        print(\"The SMS is classified as non-spam.\")\n",
    "\n"
   ]
  },
  {
   "cell_type": "code",
   "execution_count": 36,
   "id": "1d9f2eb3",
   "metadata": {},
   "outputs": [
    {
     "name": "stdout",
     "output_type": "stream",
     "text": [
      "Spam probability [0.97629792]\n",
      "The SMS is classified as spam.\n"
     ]
    }
   ],
   "source": [
    "classify_sms(\"click this link to win secret money\")"
   ]
  },
  {
   "cell_type": "code",
   "execution_count": 37,
   "id": "88cacb60",
   "metadata": {},
   "outputs": [
    {
     "name": "stdout",
     "output_type": "stream",
     "text": [
      "Spam probability [0.98325318]\n",
      "The SMS is classified as spam.\n"
     ]
    }
   ],
   "source": [
    "classify_sms(\"WINNER!! This is the secret code to unlock the money: C3421.\")"
   ]
  },
  {
   "cell_type": "code",
   "execution_count": 38,
   "id": "096c4bff",
   "metadata": {},
   "outputs": [
    {
     "name": "stdout",
     "output_type": "stream",
     "text": [
      "Spam probability [1.18865938e-06]\n",
      "The SMS is classified as non-spam.\n"
     ]
    }
   ],
   "source": [
    "classify_sms(\"Good morning dear, how was your night\")"
   ]
  },
  {
   "cell_type": "code",
   "execution_count": 39,
   "id": "bc77a97c",
   "metadata": {},
   "outputs": [
    {
     "name": "stdout",
     "output_type": "stream",
     "text": [
      "Spam probability [0.03972093]\n",
      "The SMS is classified as non-spam.\n"
     ]
    }
   ],
   "source": [
    "classify_sms(\"Nigeria is a great country\")"
   ]
  },
  {
   "cell_type": "code",
   "execution_count": 40,
   "id": "faf12857",
   "metadata": {},
   "outputs": [
    {
     "name": "stdout",
     "output_type": "stream",
     "text": [
      "Spam probability [0.66418629]\n",
      "The SMS is classified as spam.\n"
     ]
    }
   ],
   "source": [
    "classify_sms(\"[ATT MESSAGE CENTER] Message blocked. You will be charged $01 for this notification.\")"
   ]
  },
  {
   "cell_type": "code",
   "execution_count": 41,
   "id": "615a8a53",
   "metadata": {},
   "outputs": [
    {
     "name": "stdout",
     "output_type": "stream",
     "text": [
      "Spam probability [0.02505767]\n",
      "The SMS is classified as non-spam.\n"
     ]
    }
   ],
   "source": [
    "classify_sms(\"i love america\")"
   ]
  },
  {
   "cell_type": "code",
   "execution_count": 43,
   "id": "755bf557",
   "metadata": {},
   "outputs": [
    {
     "name": "stdout",
     "output_type": "stream",
     "text": [
      "Spam probability [0.00323187]\n",
      "The SMS is classified as non-spam.\n"
     ]
    }
   ],
   "source": [
    "classify_sms(\"i am not a scammer\")"
   ]
  },
  {
   "cell_type": "markdown",
   "id": "15d83181",
   "metadata": {},
   "source": [
    "### Saving the model\n",
    "For this i will use Bentoml"
   ]
  },
  {
   "cell_type": "code",
   "execution_count": 46,
   "id": "68dd11f6",
   "metadata": {},
   "outputs": [],
   "source": [
    "saved_model=bentoml.sklearn.save_model(\"naive_bayes\",nb_model)"
   ]
  },
  {
   "cell_type": "code",
   "execution_count": 48,
   "id": "cc848d2b",
   "metadata": {},
   "outputs": [
    {
     "data": {
      "text/plain": [
       "Model(tag=\"naive_bayes:5oymiprbggofawfq\", path=\"/Users/victoroshimua/bentoml/models/naive_bayes/5oymiprbggofawfq/\")"
      ]
     },
     "execution_count": 48,
     "metadata": {},
     "output_type": "execute_result"
    }
   ],
   "source": [
    "saved_model"
   ]
  },
  {
   "cell_type": "code",
   "execution_count": null,
   "id": "729d2a51",
   "metadata": {},
   "outputs": [],
   "source": []
  }
 ],
 "metadata": {
  "kernelspec": {
   "display_name": "Python 3 (ipykernel)",
   "language": "python",
   "name": "python3"
  },
  "language_info": {
   "codemirror_mode": {
    "name": "ipython",
    "version": 3
   },
   "file_extension": ".py",
   "mimetype": "text/x-python",
   "name": "python",
   "nbconvert_exporter": "python",
   "pygments_lexer": "ipython3",
   "version": "3.9.12"
  }
 },
 "nbformat": 4,
 "nbformat_minor": 5
}
