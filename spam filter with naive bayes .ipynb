{
 "cells": [
  {
   "cell_type": "markdown",
   "id": "2f3f492f",
   "metadata": {},
   "source": [
    "# About this project.\n"
   ]
  },
  {
   "cell_type": "markdown",
   "id": "853fcb01",
   "metadata": {},
   "source": [
    "Spam messages are unsolicited and unwanted messages. \n",
    "Fraudstars use spam messages to trick people into giving them your personal information — things like your password, account number, or Even credit card information.\n",
    "\n",
    "These messages are designed such a way people fall for it. This is  because it is difficult for people with little knowledge about scams to determine if an sms is from a scammer.\n"
   ]
  },
  {
   "cell_type": "markdown",
   "id": "f3a2b0d7",
   "metadata": {},
   "source": [
    "In this project, I will build an application that can help determine if an SMS is spam or not.\n",
    "The project is all about teaching the computer how to classify messages. \n",
    "To do that, i will use the multinomial Naive Bayes algorithm along with a dataset of 5,572 SMS messages that are already classified by humans that understands what spam messages are."
   ]
  },
  {
   "cell_type": "code",
   "execution_count": 1,
   "id": "d724f795",
   "metadata": {},
   "outputs": [],
   "source": [
    "import pandas as pd\n",
    "import numpy as np\n",
    "import matplotlib.pyplot as plt\n"
   ]
  },
  {
   "cell_type": "code",
   "execution_count": 3,
   "id": "b9ff45ad",
   "metadata": {},
   "outputs": [],
   "source": [
    "sms=pd.read_csv(\"SMSSpamCollection\",sep='\\t',header=None,names=['Label', 'SMS'])"
   ]
  },
  {
   "cell_type": "code",
   "execution_count": 5,
   "id": "8d5525db",
   "metadata": {},
   "outputs": [
    {
     "data": {
      "text/plain": [
       "0       Go until jurong point, crazy.. Available only ...\n",
       "1                           Ok lar... Joking wif u oni...\n",
       "2       Free entry in 2 a wkly comp to win FA Cup fina...\n",
       "3       U dun say so early hor... U c already then say...\n",
       "4       Nah I don't think he goes to usf, he lives aro...\n",
       "                              ...                        \n",
       "5567    This is the 2nd time we have tried 2 contact u...\n",
       "5568                 Will ü b going to esplanade fr home?\n",
       "5569    Pity, * was in mood for that. So...any other s...\n",
       "5570    The guy did some bitching but I acted like i'd...\n",
       "5571                           Rofl. Its true to its name\n",
       "Name: SMS, Length: 5572, dtype: object"
      ]
     },
     "execution_count": 5,
     "metadata": {},
     "output_type": "execute_result"
    }
   ],
   "source": [
    "sms[\"SMS\"]"
   ]
  },
  {
   "cell_type": "code",
   "execution_count": null,
   "id": "a2e772fe",
   "metadata": {},
   "outputs": [],
   "source": []
  }
 ],
 "metadata": {
  "kernelspec": {
   "display_name": "Python 3 (ipykernel)",
   "language": "python",
   "name": "python3"
  },
  "language_info": {
   "codemirror_mode": {
    "name": "ipython",
    "version": 3
   },
   "file_extension": ".py",
   "mimetype": "text/x-python",
   "name": "python",
   "nbconvert_exporter": "python",
   "pygments_lexer": "ipython3",
   "version": "3.9.12"
  }
 },
 "nbformat": 4,
 "nbformat_minor": 5
}
